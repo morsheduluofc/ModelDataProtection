{
 "cells": [
  {
   "attachments": {},
   "cell_type": "markdown",
   "metadata": {},
   "source": [
    "## Usefule Links:\n",
    "- Virtual environment and keras: https://www.tutorialspoint.com/keras/keras_installation.htm\n"
   ]
  },
  {
   "cell_type": "code",
   "execution_count": null,
   "metadata": {},
   "outputs": [],
   "source": [
    "#Read all data [194 users' oversampled data]\n",
    "import csv\n",
    "import pandas as pd\n",
    "dataset=pd.read_csv('dataset/AllOversampledNData.csv')\n",
    "dataset.head()"
   ]
  },
  {
   "cell_type": "code",
   "execution_count": 16,
   "metadata": {},
   "outputs": [
    {
     "data": {
      "text/plain": [
       "ID\n",
       "0      1000\n",
       "1      1000\n",
       "2      1000\n",
       "3      1000\n",
       "4      1000\n",
       "       ... \n",
       "188    1000\n",
       "189    1000\n",
       "190    1000\n",
       "191    1000\n",
       "192    1000\n",
       "Name: ID, Length: 193, dtype: int64"
      ]
     },
     "execution_count": 16,
     "metadata": {},
     "output_type": "execute_result"
    }
   ],
   "source": [
    "#replace the user ID by class name and count the number of sample in each class\n",
    "dataset['ID'] = pd.factorize(dataset['ID'])[0]\n",
    "dataset.groupby(['ID'])['ID'].count()"
   ]
  },
  {
   "cell_type": "code",
   "execution_count": 22,
   "metadata": {},
   "outputs": [
    {
     "name": "stdout",
     "output_type": "stream",
     "text": [
      "Total user in training dataset: 96\n",
      "Total user in auxiliary dataset: 97\n"
     ]
    }
   ],
   "source": [
    "#seperate the profile in two groups: (i) Training profile (0-95), and (ii) auxiliary profile (96-193)\n",
    "totalUser= len(pd.unique(dataset['ID']))\n",
    "trainingData = dataset[dataset['ID'] < int(totalUser/2)]\n",
    "auxilaryData = dataset[dataset['ID'] >= int(totalUser/2)]\n",
    "print(\"Total user in training dataset:\", len(pd.unique(trainingData['ID'])))\n",
    "print(\"Total user in auxiliary dataset:\", len(pd.unique(auxilaryData['ID'])))"
   ]
  },
  {
   "cell_type": "code",
   "execution_count": 34,
   "metadata": {},
   "outputs": [],
   "source": [
    "#Prepare the traning data for training and testing the model\n",
    "import tensorflow\n",
    "from sklearn.model_selection import train_test_split\n",
    "from keras.utils import to_categorical\n",
    "\n",
    "X=trainingData.drop(columns=['ID'])\n",
    "y=trainingData['ID']\n",
    "\n",
    "Xtrain, Xtest, ytrain, ytest = train_test_split(X, y, test_size=0.2, random_state=22)\n",
    "Xtrain, Xval, ytrain, yval = train_test_split(Xtrain, ytrain, test_size=0.2, random_state=22)\n",
    "\n",
    "ytrain = to_categorical(ytrain)\n",
    "yval = to_categorical(yval)\n",
    "ytest = to_categorical(ytest)"
   ]
  },
  {
   "cell_type": "code",
   "execution_count": 35,
   "metadata": {},
   "outputs": [
    {
     "name": "stdout",
     "output_type": "stream",
     "text": [
      "(62719, 65)\n",
      "(62719, 96)\n",
      "(15680, 65)\n",
      "(15680, 96)\n",
      "(19600, 65)\n",
      "(19600, 96)\n"
     ]
    }
   ],
   "source": [
    "print(Xtrain.shape)\n",
    "print(ytrain.shape)\n",
    "print(Xval.shape)\n",
    "print(yval.shape)\n",
    "print(Xtest.shape)\n",
    "print(ytest.shape)"
   ]
  },
  {
   "cell_type": "code",
   "execution_count": 38,
   "metadata": {},
   "outputs": [],
   "source": [
    "# import all necessary package for a neural network\n",
    "import numpy as np\n",
    "import pandas as pd\n",
    "import matplotlib.pyplot as plt\n",
    "#matplotlib inlineimport keras\n",
    "from keras.layers import Dense, Dropout, Input,Activation,Dropout, Flatten\n",
    "from keras.models import Model,Sequential\n",
    "from keras.datasets import mnist\n",
    "#from tqdm import tqdm\n",
    "#from keras.layers.advanced_activations import LeakyReLU\n",
    "from keras.layers import BatchNormalization\n",
    "from keras.optimizers import Adam\n",
    "#import torch.nn.functional as F"
   ]
  },
  {
   "cell_type": "code",
   "execution_count": 40,
   "metadata": {},
   "outputs": [],
   "source": [
    "#define optimizers for neural network\n",
    "from keras.optimizers import SGD, RMSprop, Adam\n",
    "def adam_optimizer():\n",
    "    return Adam(lr=0.0002, beta_1=0.5)\n",
    "\n",
    "def RMSprop_optimizer():\n",
    "    return RMSprop(lr=0.001, rho=0.9)"
   ]
  },
  {
   "cell_type": "code",
   "execution_count": 43,
   "metadata": {},
   "outputs": [
    {
     "name": "stdout",
     "output_type": "stream",
     "text": [
      "Model: \"sequential_3\"\n",
      "_________________________________________________________________\n",
      " Layer (type)                Output Shape              Param #   \n",
      "=================================================================\n",
      " dense_14 (Dense)            (None, 128)               8448      \n",
      "                                                                 \n",
      " batch_normalization_12 (Bat  (None, 128)              512       \n",
      " chNormalization)                                                \n",
      "                                                                 \n",
      " activation_12 (Activation)  (None, 128)               0         \n",
      "                                                                 \n",
      " dense_15 (Dense)            (None, 256)               33024     \n",
      "                                                                 \n",
      " batch_normalization_13 (Bat  (None, 256)              1024      \n",
      " chNormalization)                                                \n",
      "                                                                 \n",
      " activation_13 (Activation)  (None, 256)               0         \n",
      "                                                                 \n",
      " dense_16 (Dense)            (None, 256)               65792     \n",
      "                                                                 \n",
      " batch_normalization_14 (Bat  (None, 256)              1024      \n",
      " chNormalization)                                                \n",
      "                                                                 \n",
      " activation_14 (Activation)  (None, 256)               0         \n",
      "                                                                 \n",
      " dense_17 (Dense)            (None, 128)               32896     \n",
      "                                                                 \n",
      " batch_normalization_15 (Bat  (None, 128)              512       \n",
      " chNormalization)                                                \n",
      "                                                                 \n",
      " activation_15 (Activation)  (None, 128)               0         \n",
      "                                                                 \n",
      " dense_18 (Dense)            (None, 10)                1290      \n",
      "                                                                 \n",
      "=================================================================\n",
      "Total params: 144,522\n",
      "Trainable params: 142,986\n",
      "Non-trainable params: 1,536\n",
      "_________________________________________________________________\n"
     ]
    },
    {
     "name": "stderr",
     "output_type": "stream",
     "text": [
      "c:\\Users\\mdmor\\PythonProjects\\ModelInversion\\.venv\\Lib\\site-packages\\keras\\optimizers\\legacy\\rmsprop.py:143: UserWarning: The `lr` argument is deprecated, use `learning_rate` instead.\n",
      "  super().__init__(name, **kwargs)\n"
     ]
    }
   ],
   "source": [
    "#neural network architecture for model training\n",
    "\n",
    "def create_classifier(release=False,totalClass=10):\n",
    "  classifier = Sequential()\n",
    "  classifier.add(Dense(128, input_dim=65))\n",
    "  classifier.add(BatchNormalization())\n",
    "  classifier.add(Activation('relu'))\n",
    "\n",
    "  #classifier.add(Dense(256))\n",
    "  #classifier.add(BatchNormalization())\n",
    "  #classifier.add(Activation('relu'))\n",
    "\n",
    "  classifier.add(Dense(256))\n",
    "  classifier.add(BatchNormalization())\n",
    "  classifier.add(Activation('relu'))\n",
    "\n",
    "  classifier.add(Dense(256))\n",
    "  classifier.add(BatchNormalization())\n",
    "  classifier.add(Activation('relu'))\n",
    "\n",
    "  #classifier.add(Dense(256))\n",
    "  #classifier.add(BatchNormalization())\n",
    "  #classifier.add(Activation('relu'))\n",
    "\n",
    "  classifier.add(Dense(128))\n",
    "  classifier.add(BatchNormalization())\n",
    "  classifier.add(Activation('relu'))\n",
    "\n",
    "  #if release:\n",
    "  classifier.add(Dense(totalClass, activation='softmax'))\n",
    "  #else:\n",
    "  #   classifier.add(Dense(Tuser))\n",
    "  #np.log_softmax_v2(a, axis=axis)\n",
    "  #classifier.add(F.softmax(a, dim=1))\n",
    "\n",
    "  classifier.compile(loss='categorical_crossentropy', optimizer=RMSprop_optimizer(),metrics=['accuracy'])\n",
    "  return classifier\n",
    "\n",
    "Clasf=create_classifier()\n",
    "Clasf.summary()"
   ]
  },
  {
   "cell_type": "code",
   "execution_count": 44,
   "metadata": {},
   "outputs": [
    {
     "name": "stdout",
     "output_type": "stream",
     "text": [
      "Epoch 1/50\n",
      "974/980 [============================>.] - ETA: 0s - loss: 1.5375 - accuracy: 0.4612WARNING:tensorflow:Learning rate reduction is conditioned on metric `val_acc` which is not available. Available metrics are: loss,accuracy,val_loss,val_accuracy,lr\n",
      "980/980 [==============================] - 5s 4ms/step - loss: 1.5347 - accuracy: 0.4619 - val_loss: 1.1211 - val_accuracy: 0.5664 - lr: 0.0010\n",
      "Epoch 2/50\n",
      "967/980 [============================>.] - ETA: 0s - loss: 0.9270 - accuracy: 0.6369WARNING:tensorflow:Learning rate reduction is conditioned on metric `val_acc` which is not available. Available metrics are: loss,accuracy,val_loss,val_accuracy,lr\n",
      "980/980 [==============================] - 4s 4ms/step - loss: 0.9263 - accuracy: 0.6373 - val_loss: 0.8340 - val_accuracy: 0.6774 - lr: 0.0010\n",
      "Epoch 3/50\n",
      "977/980 [============================>.] - ETA: 0s - loss: 0.6656 - accuracy: 0.7444WARNING:tensorflow:Learning rate reduction is conditioned on metric `val_acc` which is not available. Available metrics are: loss,accuracy,val_loss,val_accuracy,lr\n",
      "980/980 [==============================] - 5s 5ms/step - loss: 0.6656 - accuracy: 0.7444 - val_loss: 0.7002 - val_accuracy: 0.7320 - lr: 0.0010\n",
      "Epoch 4/50\n",
      "978/980 [============================>.] - ETA: 0s - loss: 0.5011 - accuracy: 0.8117WARNING:tensorflow:Learning rate reduction is conditioned on metric `val_acc` which is not available. Available metrics are: loss,accuracy,val_loss,val_accuracy,lr\n",
      "980/980 [==============================] - 8s 8ms/step - loss: 0.5009 - accuracy: 0.8117 - val_loss: 0.5448 - val_accuracy: 0.7936 - lr: 0.0010\n",
      "Epoch 5/50\n",
      "976/980 [============================>.] - ETA: 0s - loss: 0.3875 - accuracy: 0.8573WARNING:tensorflow:Learning rate reduction is conditioned on metric `val_acc` which is not available. Available metrics are: loss,accuracy,val_loss,val_accuracy,lr\n",
      "980/980 [==============================] - 10s 10ms/step - loss: 0.3875 - accuracy: 0.8573 - val_loss: 0.3879 - val_accuracy: 0.8544 - lr: 0.0010\n",
      "Epoch 6/50\n",
      "978/980 [============================>.] - ETA: 0s - loss: 0.3171 - accuracy: 0.8842WARNING:tensorflow:Learning rate reduction is conditioned on metric `val_acc` which is not available. Available metrics are: loss,accuracy,val_loss,val_accuracy,lr\n",
      "980/980 [==============================] - 8s 8ms/step - loss: 0.3171 - accuracy: 0.8842 - val_loss: 0.3865 - val_accuracy: 0.8652 - lr: 0.0010\n",
      "Epoch 7/50\n",
      "979/980 [============================>.] - ETA: 0s - loss: 0.2704 - accuracy: 0.9024WARNING:tensorflow:Learning rate reduction is conditioned on metric `val_acc` which is not available. Available metrics are: loss,accuracy,val_loss,val_accuracy,lr\n",
      "980/980 [==============================] - 8s 8ms/step - loss: 0.2704 - accuracy: 0.9024 - val_loss: 0.3505 - val_accuracy: 0.8758 - lr: 0.0010\n",
      "Epoch 8/50\n",
      "980/980 [==============================] - ETA: 0s - loss: 0.2347 - accuracy: 0.9143WARNING:tensorflow:Learning rate reduction is conditioned on metric `val_acc` which is not available. Available metrics are: loss,accuracy,val_loss,val_accuracy,lr\n",
      "980/980 [==============================] - 6s 6ms/step - loss: 0.2347 - accuracy: 0.9143 - val_loss: 0.3643 - val_accuracy: 0.8684 - lr: 0.0010\n",
      "Epoch 9/50\n",
      "975/980 [============================>.] - ETA: 0s - loss: 0.2104 - accuracy: 0.9261WARNING:tensorflow:Learning rate reduction is conditioned on metric `val_acc` which is not available. Available metrics are: loss,accuracy,val_loss,val_accuracy,lr\n",
      "980/980 [==============================] - 8s 8ms/step - loss: 0.2105 - accuracy: 0.9261 - val_loss: 0.2756 - val_accuracy: 0.9000 - lr: 0.0010\n",
      "Epoch 10/50\n",
      "979/980 [============================>.] - ETA: 0s - loss: 0.1916 - accuracy: 0.9325WARNING:tensorflow:Learning rate reduction is conditioned on metric `val_acc` which is not available. Available metrics are: loss,accuracy,val_loss,val_accuracy,lr\n",
      "980/980 [==============================] - 6s 7ms/step - loss: 0.1915 - accuracy: 0.9325 - val_loss: 0.1927 - val_accuracy: 0.9349 - lr: 0.0010\n",
      "Epoch 11/50\n",
      "980/980 [==============================] - ETA: 0s - loss: 0.1741 - accuracy: 0.9375WARNING:tensorflow:Learning rate reduction is conditioned on metric `val_acc` which is not available. Available metrics are: loss,accuracy,val_loss,val_accuracy,lr\n",
      "980/980 [==============================] - 5s 5ms/step - loss: 0.1741 - accuracy: 0.9375 - val_loss: 0.3264 - val_accuracy: 0.8908 - lr: 0.0010\n",
      "Epoch 12/50\n",
      "980/980 [==============================] - ETA: 0s - loss: 0.1625 - accuracy: 0.9430WARNING:tensorflow:Learning rate reduction is conditioned on metric `val_acc` which is not available. Available metrics are: loss,accuracy,val_loss,val_accuracy,lr\n",
      "980/980 [==============================] - 6s 7ms/step - loss: 0.1625 - accuracy: 0.9430 - val_loss: 0.2434 - val_accuracy: 0.9217 - lr: 0.0010\n",
      "Epoch 13/50\n",
      "974/980 [============================>.] - ETA: 0s - loss: 0.1458 - accuracy: 0.9490WARNING:tensorflow:Learning rate reduction is conditioned on metric `val_acc` which is not available. Available metrics are: loss,accuracy,val_loss,val_accuracy,lr\n",
      "980/980 [==============================] - 9s 10ms/step - loss: 0.1461 - accuracy: 0.9489 - val_loss: 0.2391 - val_accuracy: 0.9254 - lr: 0.0010\n",
      "Epoch 14/50\n",
      "980/980 [==============================] - ETA: 0s - loss: 0.1415 - accuracy: 0.9497WARNING:tensorflow:Learning rate reduction is conditioned on metric `val_acc` which is not available. Available metrics are: loss,accuracy,val_loss,val_accuracy,lr\n",
      "980/980 [==============================] - 10s 10ms/step - loss: 0.1415 - accuracy: 0.9497 - val_loss: 0.1488 - val_accuracy: 0.9480 - lr: 0.0010\n",
      "Epoch 15/50\n",
      "974/980 [============================>.] - ETA: 0s - loss: 0.1312 - accuracy: 0.9535WARNING:tensorflow:Learning rate reduction is conditioned on metric `val_acc` which is not available. Available metrics are: loss,accuracy,val_loss,val_accuracy,lr\n",
      "980/980 [==============================] - 10s 10ms/step - loss: 0.1313 - accuracy: 0.9535 - val_loss: 0.1992 - val_accuracy: 0.9378 - lr: 0.0010\n",
      "Epoch 16/50\n",
      "980/980 [==============================] - ETA: 0s - loss: 0.1232 - accuracy: 0.9566WARNING:tensorflow:Learning rate reduction is conditioned on metric `val_acc` which is not available. Available metrics are: loss,accuracy,val_loss,val_accuracy,lr\n",
      "980/980 [==============================] - 9s 9ms/step - loss: 0.1232 - accuracy: 0.9566 - val_loss: 0.2077 - val_accuracy: 0.9255 - lr: 0.0010\n",
      "Epoch 17/50\n",
      "978/980 [============================>.] - ETA: 0s - loss: 0.1192 - accuracy: 0.9581WARNING:tensorflow:Learning rate reduction is conditioned on metric `val_acc` which is not available. Available metrics are: loss,accuracy,val_loss,val_accuracy,lr\n",
      "980/980 [==============================] - 9s 10ms/step - loss: 0.1192 - accuracy: 0.9581 - val_loss: 0.2396 - val_accuracy: 0.9203 - lr: 0.0010\n",
      "Epoch 18/50\n",
      "980/980 [==============================] - ETA: 0s - loss: 0.1142 - accuracy: 0.9600WARNING:tensorflow:Learning rate reduction is conditioned on metric `val_acc` which is not available. Available metrics are: loss,accuracy,val_loss,val_accuracy,lr\n",
      "980/980 [==============================] - 10s 10ms/step - loss: 0.1142 - accuracy: 0.9600 - val_loss: 0.1127 - val_accuracy: 0.9615 - lr: 0.0010\n",
      "Epoch 19/50\n",
      "975/980 [============================>.] - ETA: 0s - loss: 0.1082 - accuracy: 0.9624WARNING:tensorflow:Learning rate reduction is conditioned on metric `val_acc` which is not available. Available metrics are: loss,accuracy,val_loss,val_accuracy,lr\n",
      "980/980 [==============================] - 11s 11ms/step - loss: 0.1086 - accuracy: 0.9622 - val_loss: 0.1424 - val_accuracy: 0.9502 - lr: 0.0010\n",
      "Epoch 20/50\n",
      "975/980 [============================>.] - ETA: 0s - loss: 0.1041 - accuracy: 0.9647WARNING:tensorflow:Learning rate reduction is conditioned on metric `val_acc` which is not available. Available metrics are: loss,accuracy,val_loss,val_accuracy,lr\n",
      "980/980 [==============================] - 10s 11ms/step - loss: 0.1041 - accuracy: 0.9647 - val_loss: 0.1278 - val_accuracy: 0.9566 - lr: 0.0010\n",
      "Epoch 21/50\n",
      "980/980 [==============================] - ETA: 0s - loss: 0.1022 - accuracy: 0.9647WARNING:tensorflow:Learning rate reduction is conditioned on metric `val_acc` which is not available. Available metrics are: loss,accuracy,val_loss,val_accuracy,lr\n",
      "980/980 [==============================] - 11s 11ms/step - loss: 0.1022 - accuracy: 0.9647 - val_loss: 0.1284 - val_accuracy: 0.9566 - lr: 0.0010\n",
      "Epoch 22/50\n",
      "974/980 [============================>.] - ETA: 0s - loss: 0.0987 - accuracy: 0.9658WARNING:tensorflow:Learning rate reduction is conditioned on metric `val_acc` which is not available. Available metrics are: loss,accuracy,val_loss,val_accuracy,lr\n",
      "980/980 [==============================] - 10s 11ms/step - loss: 0.0988 - accuracy: 0.9658 - val_loss: 0.1317 - val_accuracy: 0.9563 - lr: 0.0010\n",
      "Epoch 23/50\n",
      "974/980 [============================>.] - ETA: 0s - loss: 0.0927 - accuracy: 0.9688WARNING:tensorflow:Learning rate reduction is conditioned on metric `val_acc` which is not available. Available metrics are: loss,accuracy,val_loss,val_accuracy,lr\n",
      "980/980 [==============================] - 10s 10ms/step - loss: 0.0931 - accuracy: 0.9686 - val_loss: 0.1147 - val_accuracy: 0.9616 - lr: 0.0010\n",
      "Epoch 24/50\n",
      "979/980 [============================>.] - ETA: 0s - loss: 0.0928 - accuracy: 0.9691WARNING:tensorflow:Learning rate reduction is conditioned on metric `val_acc` which is not available. Available metrics are: loss,accuracy,val_loss,val_accuracy,lr\n",
      "980/980 [==============================] - 11s 11ms/step - loss: 0.0928 - accuracy: 0.9691 - val_loss: 0.1242 - val_accuracy: 0.9598 - lr: 0.0010\n",
      "Epoch 25/50\n",
      "975/980 [============================>.] - ETA: 0s - loss: 0.0866 - accuracy: 0.9700WARNING:tensorflow:Learning rate reduction is conditioned on metric `val_acc` which is not available. Available metrics are: loss,accuracy,val_loss,val_accuracy,lr\n",
      "980/980 [==============================] - 10s 10ms/step - loss: 0.0865 - accuracy: 0.9700 - val_loss: 0.0611 - val_accuracy: 0.9786 - lr: 0.0010\n",
      "Epoch 26/50\n",
      "980/980 [==============================] - ETA: 0s - loss: 0.0866 - accuracy: 0.9696WARNING:tensorflow:Learning rate reduction is conditioned on metric `val_acc` which is not available. Available metrics are: loss,accuracy,val_loss,val_accuracy,lr\n",
      "980/980 [==============================] - 10s 10ms/step - loss: 0.0866 - accuracy: 0.9696 - val_loss: 0.1051 - val_accuracy: 0.9682 - lr: 0.0010\n",
      "Epoch 27/50\n",
      "975/980 [============================>.] - ETA: 0s - loss: 0.0801 - accuracy: 0.9723WARNING:tensorflow:Learning rate reduction is conditioned on metric `val_acc` which is not available. Available metrics are: loss,accuracy,val_loss,val_accuracy,lr\n",
      "980/980 [==============================] - 10s 10ms/step - loss: 0.0804 - accuracy: 0.9722 - val_loss: 0.1410 - val_accuracy: 0.9554 - lr: 0.0010\n",
      "Epoch 28/50\n",
      "980/980 [==============================] - ETA: 0s - loss: 0.0846 - accuracy: 0.9707WARNING:tensorflow:Learning rate reduction is conditioned on metric `val_acc` which is not available. Available metrics are: loss,accuracy,val_loss,val_accuracy,lr\n",
      "980/980 [==============================] - 10s 10ms/step - loss: 0.0846 - accuracy: 0.9707 - val_loss: 0.0631 - val_accuracy: 0.9808 - lr: 0.0010\n",
      "Epoch 29/50\n",
      "976/980 [============================>.] - ETA: 0s - loss: 0.0778 - accuracy: 0.9735WARNING:tensorflow:Learning rate reduction is conditioned on metric `val_acc` which is not available. Available metrics are: loss,accuracy,val_loss,val_accuracy,lr\n",
      "980/980 [==============================] - 10s 10ms/step - loss: 0.0779 - accuracy: 0.9735 - val_loss: 0.0925 - val_accuracy: 0.9692 - lr: 0.0010\n",
      "Epoch 30/50\n",
      "979/980 [============================>.] - ETA: 0s - loss: 0.0788 - accuracy: 0.9738WARNING:tensorflow:Learning rate reduction is conditioned on metric `val_acc` which is not available. Available metrics are: loss,accuracy,val_loss,val_accuracy,lr\n",
      "980/980 [==============================] - 10s 11ms/step - loss: 0.0788 - accuracy: 0.9738 - val_loss: 0.0804 - val_accuracy: 0.9740 - lr: 0.0010\n",
      "Epoch 31/50\n",
      "976/980 [============================>.] - ETA: 0s - loss: 0.0783 - accuracy: 0.9739WARNING:tensorflow:Learning rate reduction is conditioned on metric `val_acc` which is not available. Available metrics are: loss,accuracy,val_loss,val_accuracy,lr\n",
      "980/980 [==============================] - 11s 11ms/step - loss: 0.0782 - accuracy: 0.9739 - val_loss: 0.0784 - val_accuracy: 0.9721 - lr: 0.0010\n",
      "Epoch 32/50\n",
      "980/980 [==============================] - ETA: 0s - loss: 0.0722 - accuracy: 0.9754WARNING:tensorflow:Learning rate reduction is conditioned on metric `val_acc` which is not available. Available metrics are: loss,accuracy,val_loss,val_accuracy,lr\n",
      "980/980 [==============================] - 10s 10ms/step - loss: 0.0722 - accuracy: 0.9754 - val_loss: 0.1209 - val_accuracy: 0.9642 - lr: 0.0010\n",
      "Epoch 33/50\n",
      "979/980 [============================>.] - ETA: 0s - loss: 0.0729 - accuracy: 0.9754WARNING:tensorflow:Learning rate reduction is conditioned on metric `val_acc` which is not available. Available metrics are: loss,accuracy,val_loss,val_accuracy,lr\n",
      "980/980 [==============================] - 11s 11ms/step - loss: 0.0732 - accuracy: 0.9754 - val_loss: 0.1076 - val_accuracy: 0.9642 - lr: 0.0010\n",
      "Epoch 34/50\n",
      "977/980 [============================>.] - ETA: 0s - loss: 0.0709 - accuracy: 0.9765WARNING:tensorflow:Learning rate reduction is conditioned on metric `val_acc` which is not available. Available metrics are: loss,accuracy,val_loss,val_accuracy,lr\n",
      "980/980 [==============================] - 10s 11ms/step - loss: 0.0709 - accuracy: 0.9765 - val_loss: 0.0829 - val_accuracy: 0.9756 - lr: 0.0010\n",
      "Epoch 35/50\n",
      "978/980 [============================>.] - ETA: 0s - loss: 0.0720 - accuracy: 0.9761WARNING:tensorflow:Learning rate reduction is conditioned on metric `val_acc` which is not available. Available metrics are: loss,accuracy,val_loss,val_accuracy,lr\n",
      "980/980 [==============================] - 10s 10ms/step - loss: 0.0719 - accuracy: 0.9761 - val_loss: 0.0994 - val_accuracy: 0.9666 - lr: 0.0010\n",
      "Epoch 36/50\n",
      "976/980 [============================>.] - ETA: 0s - loss: 0.0696 - accuracy: 0.9771WARNING:tensorflow:Learning rate reduction is conditioned on metric `val_acc` which is not available. Available metrics are: loss,accuracy,val_loss,val_accuracy,lr\n",
      "980/980 [==============================] - 11s 11ms/step - loss: 0.0694 - accuracy: 0.9772 - val_loss: 0.0663 - val_accuracy: 0.9784 - lr: 0.0010\n",
      "Epoch 37/50\n",
      "977/980 [============================>.] - ETA: 0s - loss: 0.0654 - accuracy: 0.9776WARNING:tensorflow:Learning rate reduction is conditioned on metric `val_acc` which is not available. Available metrics are: loss,accuracy,val_loss,val_accuracy,lr\n",
      "980/980 [==============================] - 10s 11ms/step - loss: 0.0653 - accuracy: 0.9776 - val_loss: 0.0912 - val_accuracy: 0.9692 - lr: 0.0010\n",
      "Epoch 38/50\n",
      "977/980 [============================>.] - ETA: 0s - loss: 0.0659 - accuracy: 0.9782WARNING:tensorflow:Learning rate reduction is conditioned on metric `val_acc` which is not available. Available metrics are: loss,accuracy,val_loss,val_accuracy,lr\n",
      "980/980 [==============================] - 12s 13ms/step - loss: 0.0659 - accuracy: 0.9783 - val_loss: 0.0636 - val_accuracy: 0.9805 - lr: 0.0010\n",
      "Epoch 39/50\n",
      "974/980 [============================>.] - ETA: 0s - loss: 0.0639 - accuracy: 0.9789WARNING:tensorflow:Learning rate reduction is conditioned on metric `val_acc` which is not available. Available metrics are: loss,accuracy,val_loss,val_accuracy,lr\n",
      "980/980 [==============================] - 7s 7ms/step - loss: 0.0641 - accuracy: 0.9789 - val_loss: 0.0750 - val_accuracy: 0.9774 - lr: 0.0010\n",
      "Epoch 40/50\n",
      "975/980 [============================>.] - ETA: 0s - loss: 0.0627 - accuracy: 0.9787WARNING:tensorflow:Learning rate reduction is conditioned on metric `val_acc` which is not available. Available metrics are: loss,accuracy,val_loss,val_accuracy,lr\n",
      "980/980 [==============================] - 7s 7ms/step - loss: 0.0625 - accuracy: 0.9788 - val_loss: 0.0670 - val_accuracy: 0.9801 - lr: 0.0010\n",
      "Epoch 41/50\n",
      "976/980 [============================>.] - ETA: 0s - loss: 0.0649 - accuracy: 0.9776WARNING:tensorflow:Learning rate reduction is conditioned on metric `val_acc` which is not available. Available metrics are: loss,accuracy,val_loss,val_accuracy,lr\n",
      "980/980 [==============================] - 7s 7ms/step - loss: 0.0651 - accuracy: 0.9775 - val_loss: 0.0707 - val_accuracy: 0.9777 - lr: 0.0010\n",
      "Epoch 42/50\n",
      "976/980 [============================>.] - ETA: 0s - loss: 0.0604 - accuracy: 0.9793WARNING:tensorflow:Learning rate reduction is conditioned on metric `val_acc` which is not available. Available metrics are: loss,accuracy,val_loss,val_accuracy,lr\n",
      "980/980 [==============================] - 7s 7ms/step - loss: 0.0604 - accuracy: 0.9793 - val_loss: 0.0794 - val_accuracy: 0.9736 - lr: 0.0010\n",
      "Epoch 43/50\n",
      "979/980 [============================>.] - ETA: 0s - loss: 0.0620 - accuracy: 0.9788WARNING:tensorflow:Learning rate reduction is conditioned on metric `val_acc` which is not available. Available metrics are: loss,accuracy,val_loss,val_accuracy,lr\n",
      "980/980 [==============================] - 7s 7ms/step - loss: 0.0620 - accuracy: 0.9788 - val_loss: 0.0501 - val_accuracy: 0.9832 - lr: 0.0010\n",
      "Epoch 44/50\n",
      "978/980 [============================>.] - ETA: 0s - loss: 0.0606 - accuracy: 0.9795WARNING:tensorflow:Learning rate reduction is conditioned on metric `val_acc` which is not available. Available metrics are: loss,accuracy,val_loss,val_accuracy,lr\n",
      "980/980 [==============================] - 10s 10ms/step - loss: 0.0607 - accuracy: 0.9794 - val_loss: 0.0652 - val_accuracy: 0.9786 - lr: 0.0010\n",
      "Epoch 45/50\n",
      "980/980 [==============================] - ETA: 0s - loss: 0.0616 - accuracy: 0.9797WARNING:tensorflow:Learning rate reduction is conditioned on metric `val_acc` which is not available. Available metrics are: loss,accuracy,val_loss,val_accuracy,lr\n",
      "980/980 [==============================] - 9s 10ms/step - loss: 0.0616 - accuracy: 0.9797 - val_loss: 0.0893 - val_accuracy: 0.9741 - lr: 0.0010\n",
      "Epoch 46/50\n",
      "980/980 [==============================] - ETA: 0s - loss: 0.0585 - accuracy: 0.9797WARNING:tensorflow:Learning rate reduction is conditioned on metric `val_acc` which is not available. Available metrics are: loss,accuracy,val_loss,val_accuracy,lr\n",
      "980/980 [==============================] - 11s 12ms/step - loss: 0.0585 - accuracy: 0.9797 - val_loss: 0.0723 - val_accuracy: 0.9791 - lr: 0.0010\n",
      "Epoch 47/50\n",
      "976/980 [============================>.] - ETA: 0s - loss: 0.0570 - accuracy: 0.9803WARNING:tensorflow:Learning rate reduction is conditioned on metric `val_acc` which is not available. Available metrics are: loss,accuracy,val_loss,val_accuracy,lr\n",
      "980/980 [==============================] - 9s 9ms/step - loss: 0.0570 - accuracy: 0.9804 - val_loss: 0.0582 - val_accuracy: 0.9795 - lr: 0.0010\n",
      "Epoch 48/50\n",
      "980/980 [==============================] - ETA: 0s - loss: 0.0545 - accuracy: 0.9813WARNING:tensorflow:Learning rate reduction is conditioned on metric `val_acc` which is not available. Available metrics are: loss,accuracy,val_loss,val_accuracy,lr\n",
      "980/980 [==============================] - 11s 11ms/step - loss: 0.0545 - accuracy: 0.9813 - val_loss: 0.0809 - val_accuracy: 0.9757 - lr: 0.0010\n",
      "Epoch 49/50\n",
      "977/980 [============================>.] - ETA: 0s - loss: 0.0558 - accuracy: 0.9818WARNING:tensorflow:Learning rate reduction is conditioned on metric `val_acc` which is not available. Available metrics are: loss,accuracy,val_loss,val_accuracy,lr\n",
      "980/980 [==============================] - 11s 11ms/step - loss: 0.0557 - accuracy: 0.9819 - val_loss: 0.0357 - val_accuracy: 0.9874 - lr: 0.0010\n",
      "Epoch 50/50\n",
      "977/980 [============================>.] - ETA: 0s - loss: 0.0578 - accuracy: 0.9806WARNING:tensorflow:Learning rate reduction is conditioned on metric `val_acc` which is not available. Available metrics are: loss,accuracy,val_loss,val_accuracy,lr\n",
      "980/980 [==============================] - 12s 12ms/step - loss: 0.0577 - accuracy: 0.9807 - val_loss: 0.0611 - val_accuracy: 0.9824 - lr: 0.0010\n"
     ]
    }
   ],
   "source": [
    "#Train the classifier seperately for black-box attack\n",
    "import keras\n",
    "\n",
    "from keras.datasets import mnist\n",
    "from keras.models import Model\n",
    "from keras.layers import Input, Conv2D, MaxPooling2D, Flatten, Dense, UpSampling2D\n",
    "from keras.optimizers import SGD, RMSprop, Adam\n",
    "from keras.callbacks import ReduceLROnPlateau\n",
    "\n",
    "\n",
    "learning_rate_reduction = ReduceLROnPlateau(monitor='val_acc', patience=5, verbose=1, factor=0.5,min_lr=0.0001)\n",
    "callbacks_list = [learning_rate_reduction]\n",
    "\n",
    "Classfier2= create_classifier(True,96)\n",
    "\n",
    "#------Comment will start from here\n",
    "lossc='categorical_crossentropy'\n",
    "optimizerc=RMSprop(lr=0.001, rho=0.9)\n",
    "Classfier2.compile(loss=lossc, optimizer=optimizerc,metrics=['accuracy'])\n",
    "#------Comments will end from here\n",
    "historyc2 =  Classfier2.fit(Xtrain, ytrain, batch_size=64, epochs=50, validation_data=(Xval, yval),verbose=1, callbacks=callbacks_list)"
   ]
  },
  {
   "cell_type": "code",
   "execution_count": 45,
   "metadata": {},
   "outputs": [
    {
     "data": {
      "text/plain": [
       "Text(0.5, 0, 'epochs')"
      ]
     },
     "execution_count": 45,
     "metadata": {},
     "output_type": "execute_result"
    },
    {
     "data": {
      "image/png": "[encoded data removed]",
      "text/plain": [
       "<Figure size 640x480 with 1 Axes>"
      ]
     },
     "metadata": {},
     "output_type": "display_data"
    }
   ],
   "source": [
    "# Plot the classifier loss and accuracy curves for training and validation data\n",
    "import matplotlib.pyplot as plt\n",
    "plt.plot(historyc2.history['accuracy'], color='b', label=\"Training accuracy\")\n",
    "plt.plot(historyc2.history['val_accuracy'], color='r',label=\"Validation accuracy\")\n",
    "legend = plt.legend(loc='best', shadow=True)\n",
    "plt.ylabel('accuracy')\n",
    "plt.xlabel('epochs')"
   ]
  },
  {
   "cell_type": "code",
   "execution_count": 46,
   "metadata": {},
   "outputs": [
    {
     "name": "stdout",
     "output_type": "stream",
     "text": [
      "613/613 [==============================] - 1s 1ms/step - loss: 0.0652 - accuracy: 0.9801\n",
      "Loss: 0.06518296152353287\n",
      "Accuracy: 0.9800510406494141\n"
     ]
    }
   ],
   "source": [
    "#Performance of the classifier\n",
    "Classfier2.compile(loss='categorical_crossentropy', optimizer=Adam(),metrics=['accuracy'])\n",
    "loss, accuracy = Classfier2.evaluate(Xtest, ytest)\n",
    "#print('Test score:', score)\n",
    "print('Loss:', loss)\n",
    "print('Accuracy:', accuracy)"
   ]
  }
 ],
 "metadata": {
  "kernelspec": {
   "display_name": ".venv",
   "language": "python",
   "name": "python3"
  },
  "language_info": {
   "codemirror_mode": {
    "name": "ipython",
    "version": 3
   },
   "file_extension": ".py",
   "mimetype": "text/x-python",
   "name": "python",
   "nbconvert_exporter": "python",
   "pygments_lexer": "ipython3",
   "version": "3.11.3"
  },
  "orig_nbformat": 4
 },
 "nbformat": 4,
 "nbformat_minor": 2
}
